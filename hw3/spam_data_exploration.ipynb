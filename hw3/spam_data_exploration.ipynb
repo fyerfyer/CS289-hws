{
 "cells": [
  {
   "cell_type": "code",
   "execution_count": 1,
   "id": "ed1e6ee3",
   "metadata": {},
   "outputs": [],
   "source": [
    "import numpy as np "
   ]
  },
  {
   "cell_type": "code",
   "execution_count": 2,
   "id": "bf8542d5",
   "metadata": {},
   "outputs": [
    {
     "name": "stdout",
     "output_type": "stream",
     "text": [
      "files in dataset: ['training_data', 'training_labels', 'test_data']\n",
      "spam train data shape:(4171, 32)\n",
      "spam train label shape:(4171,)\n",
      "spam test data shape:(1000, 32)\n",
      "==================================================\n",
      "train data unique value:[  0.   1.   2.   3.   4.   5.   6.   7.   8.   9.  10.  11.  12.  13.\n",
      "  14.  15.  16.  17.  18.  19.  20.  21.  22.  23.  24.  25.  26.  27.\n",
      "  28.  29.  30.  32.  33.  34.  35.  36.  37.  39.  40.  41.  42.  43.\n",
      "  44.  45.  51.  52.  53.  55.  58.  60.  62.  63.  67.  68.  73.  75.\n",
      " 102. 138. 140. 146. 180. 219. 250. 293.]\n",
      "train data type:float64\n",
      "train labels unique value:[0 1]\n",
      "train labels type:int64\n"
     ]
    }
   ],
   "source": [
    "dataset = np.load('data/spam-data-hw3.npz')\n",
    "print(f'files in dataset: {dataset.files}')\n",
    "\n",
    "spam_train_data = dataset['training_data']\n",
    "spam_train_labels = dataset['training_labels']\n",
    "spam_test_data = dataset['test_data']\n",
    "print(f'spam train data shape:{spam_train_data.shape}')\n",
    "print(f'spam train label shape:{spam_train_labels.shape}')\n",
    "print(f'spam test data shape:{spam_test_data.shape}')\n",
    "\n",
    "print('=' * 50)\n",
    "\n",
    "print(f'train data unique value:{np.unique(spam_train_data)}')\n",
    "print(f'train data type:{spam_train_data.dtype}')\n",
    "print(f'train labels unique value:{np.unique(spam_train_labels)}')\n",
    "print(f'train labels type:{spam_train_labels.dtype}')"
   ]
  },
  {
   "cell_type": "code",
   "execution_count": null,
   "id": "f886a55a",
   "metadata": {},
   "outputs": [],
   "source": []
  }
 ],
 "metadata": {
  "kernelspec": {
   "display_name": "cs15-388",
   "language": "python",
   "name": "python3"
  },
  "language_info": {
   "codemirror_mode": {
    "name": "ipython",
    "version": 3
   },
   "file_extension": ".py",
   "mimetype": "text/x-python",
   "name": "python",
   "nbconvert_exporter": "python",
   "pygments_lexer": "ipython3",
   "version": "3.11.13"
  }
 },
 "nbformat": 4,
 "nbformat_minor": 5
}
