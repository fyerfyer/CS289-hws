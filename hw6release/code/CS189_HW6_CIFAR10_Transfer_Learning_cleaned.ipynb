{
  "cells": [
    {
      "cell_type": "markdown",
      "metadata": {
        "id": "MCMXhqBVRfAc"
      },
      "source": [
        "# Transfer Learning for Classification"
      ]
    },
    {
      "cell_type": "markdown",
      "metadata": {
        "id": "NaOf10fM-UEw"
      },
      "source": [
        "**Please save a copy of the notebook in your local drive! Otherwise you will lose your progress.**"
      ]
    },
    {
      "cell_type": "markdown",
      "metadata": {
        "id": "usTXKR2nRkMP"
      },
      "source": [
        "## Introduction & a Bit of History"
      ]
    },
    {
      "cell_type": "markdown",
      "metadata": {
        "id": "61cAWUkPon7M"
      },
      "source": [
        "Over the course of CS189, you have trained machine learning models for specific applications, whether it is classification or regression. Although this has been effective, modern machine learning researchers use a considerably different pipeline for training models.\n",
        "\n",
        "What people have been doing instead is to train a massive model for a very broad objective, and then finetune the model on a smaller dataset. This approach has given us a lot of great-performing models and agents, the most notable being that of [GPT](https://arxiv.org/abs/2005.14165) models (there are also more models that does the same job, BERT, DINO, masked autoencoders are the ones that immediately came to mind, but unfortunately there are no equivalent in robotics), as they relied on internet scale pretraining (with GPT specifically, people use what's called next-token prediction as the objective). You don't need to know exactly how this works in this class, but this is drastically different than what we have done by fitting a model to exactly one dataset.\n",
        "\n",
        "Of course, we do not have the computational resources to retrain any GPT3+ models, but we can try a smaller problem with transfer learning! Here is a little story behind the origin of transfer learning:\n",
        "\n",
        "Back in 2013, neural-net based image recognition methods such as AlexNet has already swept through the ML community by storm, and people are trying to tackle the next problem in computer vision, which is object segmentation (using bounding boxes). The problem is that the corresponding dataset, [Pascal-VOC](https://paperswithcode.com/dataset/pascal-voc), is very small for neural networks (only 1500 training images and 20,000 data entries).\n",
        "\n",
        "So what did people do? Researchers have found out is that instead of training a neural network from scratch, using weights from networks trained on [ImageNet classification](https://paperswithcode.com/sota/image-classification-on-imagenet) as the starting point actually helped to achieve very good tracking accuracy on these tasks (if you are so inclined, feel free to read [R-CNN](https://arxiv.org/pdf/1311.2524) to see what they have done)! In fact, this method worked so well that it not only inspired the idea of \"pretraining\" across the machine learning community, but also sparked a [funny bet](https://people.eecs.berkeley.edu/~efros/gelato_bet.html) between two UC Berkeley professors.\n",
        "\n",
        "In previous semesters, we actually didn't want you to do transfer learning for CIFAR-10, but with how much the machine learning world has changed, we are changing the focus specifically on transfer learning to get you more familiar with these paradigms and hope you can have successes working with these large models!"
      ]
    },
    {
      "cell_type": "markdown",
      "metadata": {
        "id": "xJEaq9aKXS1H"
      },
      "source": [
        "## Transfer Learning for CIFAR-10\n",
        "\n",
        "In this question, we will explore how to effectively use transfer learning to learn a new task with a *pretrained* network. In essence, the idea of pretraining is that a network has been trained on another objective, and that the weights are something more desirable than random initialization. Transfer learning takes advantage of that and aims to make training faster compared to that of training from scratch."
      ]
    },
    {
      "cell_type": "code",
      "execution_count": 1,
      "metadata": {
        "id": "G0ZDOGaAPKN2"
      },
      "outputs": [],
      "source": [
        "# utils for data loading\n",
        "import torch\n",
        "import torch.nn as nn\n",
        "import torch.nn.functional as F\n",
        "import torchvision.utils\n",
        "from torchvision import datasets\n",
        "import torchvision.transforms as transforms\n",
        "from torch.utils.data import DataLoader\n",
        "from torchvision import models\n",
        "\n",
        "import time\n",
        "import numpy as np\n",
        "import pandas as pd\n",
        "\n",
        "import os\n",
        "import time\n",
        "\n",
        "import random\n",
        "import matplotlib.pyplot as plt\n",
        "\n",
        "if torch.cuda.is_available():\n",
        "    torch.backends.cudnn.deterministic = True\n",
        "\n",
        "\n",
        "%matplotlib inline"
      ]
    },
    {
      "cell_type": "code",
      "execution_count": 2,
      "metadata": {
        "id": "APikZYbU2zsa"
      },
      "outputs": [],
      "source": [
        "device = \"cuda\" if torch.cuda.is_available() else \"cpu\""
      ]
    },
    {
      "cell_type": "code",
      "execution_count": 3,
      "metadata": {
        "id": "708XrXMMVzEZ"
      },
      "outputs": [],
      "source": [
        "seed = 42  # Define the seed value\n",
        "np.random.seed(seed)\n",
        "torch.manual_seed(seed)\n",
        "torch.cuda.manual_seed(seed)"
      ]
    },
    {
      "cell_type": "markdown",
      "metadata": {
        "id": "Z_zCo5YPSFe9"
      },
      "source": [
        "First, let's start with making the necessary transformations of our training data. CIFAR-10 is a collection of 60,000 32x32x3 images divided into 10 classes. If you want more information, please refer to [this link](https://www.cs.toronto.edu/~kriz/cifar.html) by Alex Krizhevsky et al.\n",
        "\n",
        "However, most of the models readily available are trained on ImageNet, which is 224x224x3. Although one can hack the weights of a neural network and design a new network on top of it, it is much easier to simply scale up the images by a factor of 7 (224/32) and feed the network the magnified images. Let's do that instead!"
      ]
    },
    {
      "cell_type": "code",
      "execution_count": 4,
      "metadata": {
        "colab": {
          "base_uri": "https://localhost:8080/"
        },
        "id": "xCPr-hccb40C",
        "outputId": "2619ed31-353d-4dc2-fbac-581f5c7fb941"
      },
      "outputs": [
        {
          "name": "stderr",
          "output_type": "stream",
          "text": [
            "100%|██████████| 170M/170M [00:13<00:00, 12.9MB/s]\n"
          ]
        }
      ],
      "source": [
        "## transforms to match that of the transforms in ImageNet\n",
        "transform = transforms.Compose([\n",
        "    transforms.Resize((224, 224)), # Resize to 224x224 (ImageNet size)\n",
        "    transforms.ToTensor(),\n",
        "    transforms.Normalize(mean=[0.485, 0.456, 0.406],\n",
        "                          std=[0.229, 0.224, 0.225])\n",
        "])\n",
        "\n",
        "## download training dataset\n",
        "train_dataset = datasets.CIFAR10(root='./data', train=True,\n",
        "                                 transform=transform, download=True)\n",
        "\n",
        "test_dataset = datasets.CIFAR10(root='./data', train=False,\n",
        "                                 transform=transform, download=True)"
      ]
    },
    {
      "cell_type": "markdown",
      "metadata": {
        "id": "xJ85JzKxi0Dz"
      },
      "source": [
        "Let's also visualize some images within CIFAR-10 Dataset!"
      ]
    },
    {
      "cell_type": "code",
      "execution_count": 5,
      "metadata": {
        "colab": {
          "base_uri": "https://localhost:8080/",
          "height": 453
        },
        "id": "0iyrIgOdN7H0",
        "outputId": "a23be847-9300-4a86-cb63-ef20452d435f"
      },
      "outputs": [
        {
          "data": {
            "text/plain": [
              "<matplotlib.image.AxesImage at 0x7975af8bdeb0>"
            ]
          },
          "execution_count": 5,
          "metadata": {},
          "output_type": "execute_result"
        },
        {
          "data": {
            "image/png": "[encoded data removed]",
            "text/plain": [
              "<Figure size 640x480 with 1 Axes>"
            ]
          },
          "metadata": {},
          "output_type": "display_data"
        }
      ],
      "source": [
        "viz_transform = transforms.Compose([\n",
        "    transforms.Resize((224, 224)), # Resize to 224x224 (height x width)\n",
        "    transforms.ToTensor(),\n",
        "])\n",
        "\n",
        "viz_dataset = datasets.CIFAR10(root='./data', train=True,\n",
        "                                 transform=viz_transform, download=True)\n",
        "\n",
        "images = [viz_dataset[i][0] for i in range(9)]\n",
        "plt.imshow(torchvision.utils.make_grid(torch.stack(images), nrow=3, padding=5).numpy().transpose((1, 2, 0)))"
      ]
    },
    {
      "cell_type": "markdown",
      "metadata": {
        "id": "P70kdfaRgvle"
      },
      "source": [
        "Now go to *torchvision.models* module, and pick one of the following models that you would like.\n",
        "\n",
        "- VGG Networks (all VGG networks are fine)\n",
        "\n",
        "- AlexNet\n",
        "\n",
        "- ResNet-18, -34, or -50\n",
        "\n",
        "A more expressive model, such as using vision transformers, will not be allowed (they also have hundreds of millions of parameters, which is not friendly for your colab compute units). All model weights must directly come from *torchvision.models* module.\n",
        "\n",
        "In order to perform transfer learning, you should do the following steps:\n",
        "\n",
        "1. Load a pretrained network on another dataset.\n",
        "2. Freeze most of the layers of the pretrained network and discard a part of the network not relevant to your model.\n",
        "3. Append a new MLP at the end of the network, and allow gradients to pass through the new MLP (and other non-frozen parts of the network).\n",
        "4. Train the new network.\n",
        "\n",
        "**Although we would like you to explore transfer learning, here are some rules you must follow:**\n",
        "\n",
        "1. You may not change the model architecture other than the final linear layers.\n",
        "2. You must freeze all of the weights in the convolutional layers.\n",
        "3. You may not have more than 3 million trainable parameters."
      ]
    },
    {
      "cell_type": "code",
      "execution_count": 6,
      "metadata": {
        "id": "ZvfBGKlSu9YQ"
      },
      "outputs": [],
      "source": [
        "class TransferCIFAR10(nn.Module):\n",
        "  def __init__(self, num_classes=10):\n",
        "    super(TransferCIFAR10, self).__init__()\n",
        "\n",
        "    # Load model\n",
        "    resnet18 = models.resnet18(pretrained=True) # Load pretrained weights\n",
        "    for param in resnet18.parameters():\n",
        "      param.requires_grad = False\n",
        "\n",
        "    # Get the number of features from the layer before the final FC layer\n",
        "    # For ResNet18, this is typically 512\n",
        "    num_features = resnet18.fc.in_features # This gets the input features of the original FC layer (which is 512 for resnet18)\n",
        "\n",
        "    # Replace the original classifier with an Identity layer to remove it\n",
        "    resnet18.fc = nn.Identity()\n",
        "\n",
        "    self.features = resnet18\n",
        "    # Create a new classifier layer with the correct input features\n",
        "    classifier = nn.Linear(num_features, num_classes)\n",
        "    self.classifier = classifier\n",
        "\n",
        "  def forward(self, x):\n",
        "    x = self.features(x)\n",
        "    x = self.classifier(x)\n",
        "    return x"
      ]
    },
    {
      "cell_type": "markdown",
      "metadata": {
        "id": "vcnpvQeTotsZ"
      },
      "source": [
        "If you want to check how many trainable parameters are within your model, run this script here:"
      ]
    },
    {
      "cell_type": "code",
      "execution_count": 7,
      "metadata": {
        "id": "hgAWEb1AotLq"
      },
      "outputs": [],
      "source": [
        "def num_trainable_params(model: nn.Module):\n",
        "  return sum(p.numel() for p in model.parameters() if p.requires_grad)"
      ]
    },
    {
      "cell_type": "code",
      "execution_count": 8,
      "metadata": {
        "colab": {
          "base_uri": "https://localhost:8080/",
          "height": 549,
          "referenced_widgets": [
            "4ed62d4da9ed4bfaa3265afbbe1b026a",
            "477b162ea0f24271a3465b978135d346",
            "395f0d8adf4944b28571312de6eba063",
            "f90257f383cb4e98a09159884249622a",
            "bb599f6eaf5540c6a60a3b244e4c5cca",
            "b0b49cba6a8b4be3900daf7dfe34b973",
            "4fd9be5b433d4f1db33253e702cd0d27",
            "b051c7aee8794f0ca77b0e31c041a6d2",
            "742c2fd1eb33422194b0012c3d448c0e",
            "2841bf6d17544f399ba327161d954b56",
            "e5453f0407fe400b928db3dd208d155b",
            "848ec528b0674cb5a990c1cc41040165",
            "2230f687b5c64513aa8067bbeea4cae8",
            "ff95aaf04b974a6b824e4734240908f7",
            "fced5443e1104dcab2773efe47f24369",
            "88f38e7050e24bf0b1e7da6b79f0a5e4",
            "327268789b2043139869734b7fffa0a2",
            "ee438a0807f64a2c86da63693b50655a",
            "4f92e32055b24971855c2ac00e643153",
            "4cc26eb30e994028a48103759793f19b",
            "222e8fd7f71e4f0291acb6359f0c69f7",
            "286a676d93824117b77349796da108e1",
            "250b0f9d8e89452fb00c8a66927d7cb7",
            "185a2a0a492d477caf28204556f29fbb",
            "3d41a51579ce4055a133cfd10d915adf",
            "bf56c5a521a540e19a665e728784caa8",
            "b39beb098be44cd8ba1c0ec466ae1448",
            "e0d370131b06461c8fe38ea5e9b68af4",
            "fbffaa9b309247b3834a01c69e80e55d",
            "5e1326c4099847a881c06e21c4e60ad5",
            "bfb007b78dd4495482f60b106a6e6d9d",
            "6dc45687bb1443478247fbe284b7653f",
            "a60ae81bacee4de0a3b27542f2a9cba6",
            "0894778981b24f62bf2208057db5bfbc",
            "098189c356b4465db431fe739c134e6b",
            "181d81c54b104022a51a5153960af10a",
            "ed2214b3aea84aa1bd030f294c34b7c2",
            "257011bebc914fc8a3e049d56fb8ae5d",
            "8448fc4cafab4ae99133126f5e7b89c6",
            "066c2a8f3624492c8d2459455bf6ba77",
            "77c5b81754194ca8a6c56afa72b33aad",
            "60292c187ffa4770aa77c5f385dd63a8",
            "2e5259bfae404b2db4166f433d5a60e5",
            "c0087dbb1b754b1d90a2515365fdbb08",
            "ccdb3dc819dc4458a63539428b37f45f",
            "beac89d9c2314fc69834b911e8bd4373",
            "c239d406eba84940b85fb3064029eaaf",
            "3d4e566911724c53b7ac2e87fb1f402f",
            "9af2be94daeb4d65a77b55f78f6a3b3f",
            "590309bc6bdd4a9c9a6d6568bfe7e2eb",
            "b2de33a85892409eb7a20151b63f7af3",
            "68263c5475e84758af85f538b2006ecd",
            "a026b00e581542ca9a44fe110566a548",
            "0072b0058b714ca393664b0d0a9282e4",
            "3d7e76d282b84b549906d2468ab53366",
            "36c623e8756c4cccbe66775ae2d43250",
            "1c125d3940c84e51aadf3745b3cc796f",
            "9b452bdada994b7a897d3f335533d0b9",
            "6113c0d491e8491699b177766f73bd4d",
            "8dbb25f94e714a5296e81889f934f214",
            "fa7a1733b1cf46bfa60a1f21ba51b96a",
            "f72baa6d96e544d38c16881669524e55",
            "70800327450040ea96d2818ca8e3246f",
            "301a701b02c34708ab2de0269a9823a7",
            "0a267379ed45444f8d4dc074531b0268",
            "96e2b807dce44ea9afc0ec1ce8703026",
            "5e11f0c76db0410ca5d24c287f35de01",
            "21c204f4a2a44d53844bf6d05c0e760d",
            "33b2d634466a42bd83588df8b1c00e0d",
            "2d9c3db301a849dbb54f8fb8bbd25212",
            "9d88a7c12f3b474089eeb1764d3045ba",
            "a8e4f1f2960e4af38bc8d98d827f792b",
            "f2b841a0f1b0487a90e3ab8dc845ed0a",
            "02a9cae8759c43b1b0cc1dfbb52890a2",
            "c15b6c945a824e639391939cb2e00f30",
            "4e357d44097a48bd9813325a4b9f3159",
            "0aba55c54f4f413182b61908146d6a78",
            "909eb7f09e844eb0a82c103cd925d46e",
            "b5214ac12bab44e09db40dc049876b3a",
            "36e2abe62b3e43ecb34b4c4a97a0048f",
            "7a650ac8ed524e14a3307ed0e511a77c",
            "08feff1b5a404dcc9886d702cd0b66f5",
            "1b1e0536bd59485ea3989f12a3c0259a",
            "2aae4f67d4ff4a67b2f4d83fba44f63a",
            "7d5cc3bd2a214d5c9b82fca916e51ed9",
            "5fe11e81f6e545bbbbda264e51cb6c69",
            "810520cb6a324de8819c3ae6d4f7decb",
            "a2203026021545d0993a746204807d09",
            "ec380f30f8da478da148f7c60f493bb4",
            "b98a8390daa04af6b7bb857584582bfb",
            "e5cbe40694e54d26bac32fa57b99543d",
            "201e3bccf2684a7f865e1bd8f06e6aec",
            "c51e2c7ea66b42e38647560072535605",
            "6a93620918a7444db3634ae7b9e16350",
            "c6afee562baf44a89a394a014c0bb20e",
            "30a50951046441ce8b62ffe167cb429d",
            "97a94ac9804f449fa42b0b86866a127d",
            "580b7d46e41f49b285d57f2eacb42da8",
            "32bcd6239ede4a6280581a3d976cdf6e",
            "5fb1b1f74f1842469003fa96c695c9ff",
            "3cac28db711649639307fb6506ae3263",
            "17ed30210c144c898dc87a8ffb419ed8",
            "bde20d5a0bb34ac79276e3c33aecb543",
            "6546dc31a5364be782d0c9b171b6b562",
            "6935bb64d2234e4d8ac51035d98d9eec",
            "d4993a757c454b57927dfffeb9073431",
            "ffe95bbeffff4d938260cc2165804aad",
            "5e3def2459b747b6a6e654bf7cfbaf65",
            "f6a21622ba6d468ba2e0f367cb34aac5",
            "8aff0d7d12c14d629fb7a6ce3db2e8e5",
            "a67952362c0e44d58ba17024fd62840c",
            "af04040f263843faa9d9196c00669ca6",
            "3afd0ed738dd4addafe959b01f459c45",
            "95f690267576481fa66d83cf9d6c7ed3",
            "e858a0e51a6e4d3eb5706feecd028894",
            "a49659a81b1b4dfb88a72ff1095a12ca",
            "338eaf8d51bc47a091ae74a54019cbfd",
            "d2c1edb4734b4ac09ba0287be206adb9",
            "9ce893bfec2f44fca0587b9c611ebcf1",
            "f356a541822a424e93288d7c14a1351f",
            "0096d53f2fa24508af087ef8bd335f26",
            "cee120e9e0a342e6a19f0878a7473a57",
            "7bc22c5d98f24e3384dc7b1c3704f3f4",
            "2c1f1eab95484495af6935f62acbba55",
            "2e0919eed75f40bd80ea72e9dc99830e",
            "f0f0afafd9a444fda9a20afc7b8d1d1c",
            "e5f6fe86aabd44d38d25a7b003b7780f",
            "e5519c34f02548bc973cc9b401d00559",
            "c068677800944e71a56672ce010f7b76",
            "8263316a052d4c90bfbef7fc5f79e06b",
            "2894586ddf63432a80aa7bc32d321ccd",
            "7ae8d6b9974b45d0936c73d5f9d05236",
            "c8aa76ac3cc74be0bdcd2f544f6139c6",
            "1fc176a301864a88a9f7b78c1c7570ff",
            "72b8a33d3b5645c59a38a9f0cfa9ee16",
            "69ca2e8de5ed4e5ca4a839809352ca61",
            "d93896bd60994ec3b9a5d1893b396300",
            "055e050aa5cc4bca89a29a9612d894e3",
            "3dd3ec67e034478fb7467e6c6d760806",
            "b87d0e5d3dfa4c37a490c4667baad221",
            "0fbcffa61af641da969f99e80600fc07",
            "4ca38c2a8d4c4e76a6a413f519cc79ad",
            "e0f28af59356468dabfec0cd545ed1cc",
            "93c46106f2d946768d5d8d6986985ca3",
            "aa983055abbd4302817f57e33ea5c8cd",
            "06a32f2269754b12befaf81622a60866",
            "94099437f68a41faaf3fbe96629b5828",
            "1f6032b429484bcb890aea91d9842d39",
            "cd69c42fc8244885a46e045b23bbdad5",
            "80a9c4060b2042b684ff7650176456f0",
            "5250879579eb4bb987fbda54082db9ec",
            "de452303b9aa4145be2a6204b493cfc3",
            "21a187426a3d491fb6173245a27d5c61",
            "d0b35118681f45dc942dc2368c85b334",
            "918e76c8a47d4078a7780606f36093fd",
            "2cc2c28ccc1d4c8a9192d60dadda6d9f",
            "4f642f53f78f43169e8ac149c20b3e15",
            "920f24751c0d459587748d040ce90356",
            "aeb5ada6abd94a74b02f623a285efbc2",
            "f13a71cb064243c5926d85caef067614",
            "6cabbfdad4d9448b98f5c3b9becaa684",
            "1b4f05c7e3aa423087369ae06275cfdf",
            "ddcf2c8d3b774aa893f9e46bdf82a6e5",
            "4b0ef4e159344281b3387cee46a1788f",
            "e02f8092cebe41fe88c8ab92fb45f6bf",
            "4abe26b6fd4f42b9b3b11e1c1085f4b7",
            "306d50ac466342abbd3a0b0ba5b682a9",
            "e282db9fbfdd47179a11559bb2881103",
            "77236bfad2cf40879831edfb7a192e3a",
            "f551c65cb7214530aab7432c1a572ee3",
            "19b699af548e4cb5a7070a6a6f26911f",
            "b8138dcc1c6c4ef796552db91b8b17f0",
            "0abf71d7d7974895a8bec554f9ba7347",
            "f253727fbe874b18b0a1d48c6f74fe3e",
            "e71c8817fc5e48989714c7b2b4150d4c",
            "794941ad6d48413fbcbdeacd167c2297",
            "a374bb7585b64efeb4d3d0c9eb22c165",
            "6acfbe82b9664baebd977ce256b33d70",
            "cc6b69b2756d4e6ab1cba71f1c015a7b",
            "e6c63290f42d482bb882af9735fe37d4",
            "0f777daead8a4e2b9dae3c9a0c958fe4",
            "d5c33aca01fc4b3eb645683929697772",
            "e05d3c2f4bf14f8da25397a36f5140a9",
            "23bc2fa9ab7e4b2eaf44c72ae6926401",
            "f3c3a53bea0e4ee8bddc23aa85873eb6",
            "9526f60230da4411a6571dfb1ad8998d",
            "c03fa76c83b94b568948adfb7eac69ed",
            "c0c863f34ba84671b8bece1745592bd3",
            "b254ca5744684482ae66b75418fca127",
            "b30b5e9ab96247299d2d272925ee9707",
            "86464671a7b04e379e32ee5f263d1700",
            "84369e72799f49a09b825136f8087902",
            "8ac745d5432c459db387346090607132",
            "279e68f824a34a88afa675a035ecddc8",
            "f88ece16e51c42a1a8148e9ec86f7992",
            "cbc49ce41d344617ad77cc9923bd1948",
            "3f173c17ff3a4458be0535f999228758",
            "d815b2f1712b48faae6624ea435228f9",
            "28729416012443f393ce6ec9fd3a8ed3",
            "43a9b01ddbca4a26a58a5f15d0c4f98e",
            "16e9a9d1cd6e4b4187bd61755cd4a2cc",
            "3086adb04cf74701a6134d6496f5138e",
            "02648bdb321b42c8a7b46d7dd8250f2c",
            "1b011207d0c44430b616bed998118d1f",
            "2b4531c2c5af4922b99ec70861893932",
            "29b02aa793e547ab8457e0322968a276",
            "b02ae8adedf3405ca103bdc92b2ed7c7",
            "b6bb739d4a424d0b9cee7e3b683705c8",
            "3eacfc1a12b042fb873a70b5b6117aaf",
            "5e6a4c85c3244a73af5ba1dc71723a6f",
            "d3ab3de1c9794017b6e0761f30e70652",
            "ee5280a5eac140129923842c7946f672",
            "205c3bb0f2b34f0ea34411937c677ec8",
            "46ea521a28a748bd8db8b1eb460b3af9",
            "6d0daffcb7cf4f19bdd96a16442f2c0f",
            "dc50485d24c44746b067b3a176a5a301",
            "8556005681334083bf1d4236e7137d60",
            "708403b8303840679f1add1ae7f00fbd",
            "262c37426fba466a93b01b4d9bc364c4",
            "36cbcb88530148458f253b3c16bd5fcc",
            "d5e891b780d9448f8f0cbcc7166ed418",
            "11a158c0b2f34bf3861c6744d75af038",
            "0cf56cb2a20a4b8a8129cb496991ca54",
            "d598f7683b9346fc815c1dc0f17947dc",
            "8d39c21f1c5e4f8187141fe4644fcb45",
            "9e8a7245c3a5473a8b5b0cd41b8ecb89",
            "1d4ef2c969334f9cbeb1b97881ff77cd",
            "763589db95ad43dbb130a0a159b901ac",
            "512b9adbe8244e6c83d9a4d706f5e25c",
            "aa5d0c4cd4d84a8bac5c7e36f9c2d1e4",
            "44108b3088624a8a8d0455fd6b359486"
          ]
        },
        "id": "b34ff4eb",
        "outputId": "ce5ec4ed-b288-4d15-d1ed-2f4065162840"
      },
      "outputs": [
        {
          "name": "stderr",
          "output_type": "stream",
          "text": [
            "/usr/local/lib/python3.12/dist-packages/torchvision/models/_utils.py:208: UserWarning: The parameter 'pretrained' is deprecated since 0.13 and may be removed in the future, please use 'weights' instead.\n",
            "  warnings.warn(\n",
            "/usr/local/lib/python3.12/dist-packages/torchvision/models/_utils.py:223: UserWarning: Arguments other than a weight enum or `None` for 'weights' are deprecated since 0.13 and may be removed in the future. The current behavior is equivalent to passing `weights=ResNet18_Weights.IMAGENET1K_V1`. You can also use `weights=ResNet18_Weights.DEFAULT` to get the most up-to-date weights.\n",
            "  warnings.warn(msg)\n"
          ]
        },
        {
          "name": "stdout",
          "output_type": "stream",
          "text": [
            "Downloading: \"https://download.pytorch.org/models/resnet18-f37072fd.pth\" to /root/.cache/torch/hub/checkpoints/resnet18-f37072fd.pth\n"
          ]
        },
        {
          "name": "stderr",
          "output_type": "stream",
          "text": [
            "100%|██████████| 44.7M/44.7M [00:00<00:00, 171MB/s]\n"
          ]
        },
        {
          "data": {
            "text/plain": [
              "Epochs:   0%|          | 0/10 [00:00<?, ?it/s]"
            ]
          },
          "metadata": {},
          "output_type": "display_data"
        },
        {
          "data": {
            "text/plain": [
              "Training:   0%|          | 0/782 [00:00<?, ?it/s]"
            ]
          },
          "metadata": {},
          "output_type": "display_data"
        },
        {
          "name": "stdout",
          "output_type": "stream",
          "text": [
            "Epoch [1/10], Loss: 0.8266\n"
          ]
        },
        {
          "data": {
            "text/plain": [
              "Testing:   0%|          | 0/157 [00:00<?, ?it/s]"
            ]
          },
          "metadata": {},
          "output_type": "display_data"
        },
        {
          "name": "stdout",
          "output_type": "stream",
          "text": [
            "Accuracy on test set: 78.26%\n"
          ]
        },
        {
          "data": {
            "text/plain": [
              "Training:   0%|          | 0/782 [00:00<?, ?it/s]"
            ]
          },
          "metadata": {},
          "output_type": "display_data"
        },
        {
          "name": "stdout",
          "output_type": "stream",
          "text": [
            "Epoch [2/10], Loss: 0.6193\n"
          ]
        },
        {
          "data": {
            "text/plain": [
              "Testing:   0%|          | 0/157 [00:00<?, ?it/s]"
            ]
          },
          "metadata": {},
          "output_type": "display_data"
        },
        {
          "name": "stdout",
          "output_type": "stream",
          "text": [
            "Accuracy on test set: 79.91%\n"
          ]
        },
        {
          "data": {
            "text/plain": [
              "Training:   0%|          | 0/782 [00:00<?, ?it/s]"
            ]
          },
          "metadata": {},
          "output_type": "display_data"
        },
        {
          "name": "stdout",
          "output_type": "stream",
          "text": [
            "Epoch [3/10], Loss: 0.5923\n"
          ]
        },
        {
          "data": {
            "text/plain": [
              "Testing:   0%|          | 0/157 [00:00<?, ?it/s]"
            ]
          },
          "metadata": {},
          "output_type": "display_data"
        },
        {
          "name": "stdout",
          "output_type": "stream",
          "text": [
            "Accuracy on test set: 80.12%\n"
          ]
        },
        {
          "data": {
            "text/plain": [
              "Training:   0%|          | 0/782 [00:00<?, ?it/s]"
            ]
          },
          "metadata": {},
          "output_type": "display_data"
        },
        {
          "name": "stdout",
          "output_type": "stream",
          "text": [
            "Epoch [4/10], Loss: 0.5748\n"
          ]
        },
        {
          "data": {
            "text/plain": [
              "Testing:   0%|          | 0/157 [00:00<?, ?it/s]"
            ]
          },
          "metadata": {},
          "output_type": "display_data"
        },
        {
          "name": "stdout",
          "output_type": "stream",
          "text": [
            "Accuracy on test set: 80.35%\n"
          ]
        },
        {
          "data": {
            "text/plain": [
              "Training:   0%|          | 0/782 [00:00<?, ?it/s]"
            ]
          },
          "metadata": {},
          "output_type": "display_data"
        },
        {
          "name": "stdout",
          "output_type": "stream",
          "text": [
            "Epoch [5/10], Loss: 0.5659\n"
          ]
        },
        {
          "data": {
            "text/plain": [
              "Testing:   0%|          | 0/157 [00:00<?, ?it/s]"
            ]
          },
          "metadata": {},
          "output_type": "display_data"
        },
        {
          "name": "stdout",
          "output_type": "stream",
          "text": [
            "Accuracy on test set: 80.35%\n"
          ]
        },
        {
          "data": {
            "text/plain": [
              "Training:   0%|          | 0/782 [00:00<?, ?it/s]"
            ]
          },
          "metadata": {},
          "output_type": "display_data"
        },
        {
          "name": "stdout",
          "output_type": "stream",
          "text": [
            "Epoch [6/10], Loss: 0.5633\n"
          ]
        },
        {
          "data": {
            "text/plain": [
              "Testing:   0%|          | 0/157 [00:00<?, ?it/s]"
            ]
          },
          "metadata": {},
          "output_type": "display_data"
        },
        {
          "name": "stdout",
          "output_type": "stream",
          "text": [
            "Accuracy on test set: 80.14%\n"
          ]
        },
        {
          "data": {
            "text/plain": [
              "Training:   0%|          | 0/782 [00:00<?, ?it/s]"
            ]
          },
          "metadata": {},
          "output_type": "display_data"
        },
        {
          "name": "stdout",
          "output_type": "stream",
          "text": [
            "Epoch [7/10], Loss: 0.5545\n"
          ]
        },
        {
          "data": {
            "text/plain": [
              "Testing:   0%|          | 0/157 [00:00<?, ?it/s]"
            ]
          },
          "metadata": {},
          "output_type": "display_data"
        },
        {
          "name": "stdout",
          "output_type": "stream",
          "text": [
            "Accuracy on test set: 80.55%\n"
          ]
        },
        {
          "data": {
            "text/plain": [
              "Training:   0%|          | 0/782 [00:00<?, ?it/s]"
            ]
          },
          "metadata": {},
          "output_type": "display_data"
        },
        {
          "name": "stdout",
          "output_type": "stream",
          "text": [
            "Epoch [8/10], Loss: 0.5534\n"
          ]
        },
        {
          "data": {
            "text/plain": [
              "Testing:   0%|          | 0/157 [00:00<?, ?it/s]"
            ]
          },
          "metadata": {},
          "output_type": "display_data"
        },
        {
          "name": "stdout",
          "output_type": "stream",
          "text": [
            "Accuracy on test set: 80.41%\n"
          ]
        },
        {
          "data": {
            "text/plain": [
              "Training:   0%|          | 0/782 [00:00<?, ?it/s]"
            ]
          },
          "metadata": {},
          "output_type": "display_data"
        },
        {
          "name": "stdout",
          "output_type": "stream",
          "text": [
            "Epoch [9/10], Loss: 0.5522\n"
          ]
        },
        {
          "data": {
            "text/plain": [
              "Testing:   0%|          | 0/157 [00:00<?, ?it/s]"
            ]
          },
          "metadata": {},
          "output_type": "display_data"
        },
        {
          "name": "stdout",
          "output_type": "stream",
          "text": [
            "Accuracy on test set: 80.28%\n"
          ]
        },
        {
          "data": {
            "text/plain": [
              "Training:   0%|          | 0/782 [00:00<?, ?it/s]"
            ]
          },
          "metadata": {},
          "output_type": "display_data"
        },
        {
          "name": "stdout",
          "output_type": "stream",
          "text": [
            "Epoch [10/10], Loss: 0.5491\n"
          ]
        },
        {
          "data": {
            "text/plain": [
              "Testing:   0%|          | 0/157 [00:00<?, ?it/s]"
            ]
          },
          "metadata": {},
          "output_type": "display_data"
        },
        {
          "name": "stdout",
          "output_type": "stream",
          "text": [
            "Accuracy on test set: 79.94%\n"
          ]
        }
      ],
      "source": [
        "# training script\n",
        "################################# YOUR CODE HERE ###################################\n",
        "from tqdm.auto import tqdm\n",
        "\n",
        "# Define the model, loss function, and optimizer\n",
        "model = TransferCIFAR10(num_classes=10).to(device)\n",
        "criterion = nn.CrossEntropyLoss()\n",
        "optimizer = torch.optim.Adam(model.parameters(), lr=0.001)\n",
        "\n",
        "train_dataloader = DataLoader(train_dataset, batch_size=64, shuffle=True)\n",
        "test_dataloader = DataLoader(test_dataset, batch_size=64, shuffle=False)\n",
        "\n",
        "num_epochs = 10\n",
        "for epoch in tqdm(range(num_epochs), desc=\"Epochs\"):\n",
        "  model.train()\n",
        "  running_loss = 0.0\n",
        "  for inputs, labels in tqdm(train_dataloader, desc=\"Training\", leave=False):\n",
        "    inputs, labels = inputs.to(device), labels.to(device)\n",
        "    optimizer.zero_grad()\n",
        "\n",
        "    outputs = model(inputs)\n",
        "    loss = criterion(outputs, labels)\n",
        "\n",
        "    loss.backward()\n",
        "    optimizer.step()\n",
        "\n",
        "    running_loss += loss.item()\n",
        "  # Print epoch statistics\n",
        "  print(f\"Epoch [{epoch+1}/{num_epochs}], Loss: {running_loss/len(train_dataloader):.4f}\")\n",
        "\n",
        "  model.eval()\n",
        "  correct = 0\n",
        "  total = 0\n",
        "  with torch.no_grad():\n",
        "    for inputs, labels in tqdm(test_dataloader, desc=\"Testing\", leave=False):\n",
        "      inputs, labels = inputs.to(device), labels.to(device)\n",
        "      outputs = model(inputs)\n",
        "      _, predicted = torch.max(outputs.data, 1)\n",
        "      total += labels.size(0)\n",
        "      correct += (predicted == labels).sum().item()\n",
        "  print(f\"Accuracy on test set: {100 * correct / total:.2f}%\")"
      ]
    },
    {
      "cell_type": "markdown",
      "metadata": {
        "id": "3aaffa46"
      },
      "source": [
        "# Model optimization"
      ]
    },
    {
      "cell_type": "markdown",
      "metadata": {
        "id": "be25f01f"
      },
      "source": [
        "## Improved classifier head\n",
        "\n",
        "Modify the TransferCIFAR10 class to include a more complex classifier head with multiple linear layers, activation functions, and dropout."
      ]
    },
    {
      "cell_type": "code",
      "execution_count": 11,
      "metadata": {
        "id": "500824ae"
      },
      "outputs": [],
      "source": [
        "class TransferCIFAR10(nn.Module):\n",
        "  def __init__(self, num_classes=10):\n",
        "    super(TransferCIFAR10, self).__init__()\n",
        "\n",
        "    # Load model\n",
        "    resnet18 = models.resnet18(pretrained=True) # Load pretrained weights\n",
        "    for param in resnet18.parameters():\n",
        "      param.requires_grad = False\n",
        "\n",
        "    # Get the number of features from the layer before the final FC layer\n",
        "    # For ResNet18, this is typically 512\n",
        "    num_features = resnet18.fc.in_features\n",
        "\n",
        "    # Replace the original classifier with an Identity layer to remove it\n",
        "    resnet18.fc = nn.Identity()\n",
        "\n",
        "    self.features = resnet18\n",
        "\n",
        "    # Create a new, more complex classifier head\n",
        "    self.classifier = nn.Sequential(\n",
        "        nn.Linear(num_features, 256), # First linear layer\n",
        "        nn.ReLU(), # Activation function\n",
        "        nn.Dropout(0.5), # Dropout for regularization\n",
        "        nn.Linear(256, num_classes) # Second linear layer\n",
        "    )\n",
        "\n",
        "  def forward(self, x):\n",
        "    x = self.features(x)\n",
        "    x = self.classifier(x)\n",
        "    return x"
      ]
    },
    {
      "cell_type": "markdown",
      "metadata": {
        "id": "e4d18701"
      },
      "source": [
        "## Learning rate scheduler"
      ]
    },
    {
      "cell_type": "markdown",
      "metadata": {
        "id": "941a4d0e"
      },
      "source": [
        "**Reasoning**:\n",
        "Incorporate the learning rate scheduler into the training loop by importing StepLR, instantiating it, and calling its step method after the optimizer step.\n",
        "\n"
      ]
    },
    {
      "cell_type": "code",
      "execution_count": 12,
      "metadata": {
        "colab": {
          "base_uri": "https://localhost:8080/",
          "height": 512,
          "referenced_widgets": [
            "5daed66128174924a08a1257b5657dd5",
            "ec71057a22f64caead740533ef4d9b91",
            "54ed11ffdc5742b8b7d4074faa92935e",
            "382e57a7e6d04161a4f4b5f606906cf9",
            "d3d52d1a019b46cd9c1dd7ae60b98616",
            "d8fc9f71685d4475bd64b1234f882a29",
            "b2fc1635b315436ebb2d3cfe40373e0f",
            "dbb2ac42517c40c894649a70ad5b7ca4",
            "29077270a62b4a9f838f4360bd8c1f53",
            "7418566436e44542a65c19e0198d8b96",
            "e9d3f5693a30411cb8cc12cbae03b26c",
            "f3880a6acd4a4ffe9413db094e0c36f3",
            "72a5ebebfbd8444dacb55deafca1f87b",
            "01cf2ae185f8489f9bacdce819708e57",
            "2ca1797fb8274e31a01786dfb45d42c0",
            "ed5ab9bba86241878f0cc6ba8551620a",
            "22d593c8b5d34c3d842e701ac5a93f8f",
            "2ad4b06e6ec94dfc952f28776f29647e",
            "25a3909f254347e5a9e05b6fd2fc4e52",
            "ee531341376c403e88c562e86a2c4a6e",
            "e6e23b3a818b4711a8d7c7d2f65685f6",
            "a0a3dcdfe7414f17b5bb852e10092fa8",
            "547cd4940aa44ecaa9fee920a02b67f3",
            "fb690e76eaf5402ea33b3edcd21a7f29",
            "c283c3c767594d7298df376c608f1a6e",
            "926b9086c9e84ee78ad79333f46fd71e",
            "592d71baa6ac4e228dd09e4d2764b3b9",
            "de4cb53ce2e8463b8811657cdaefe155",
            "f4388fe1203a4c5b8dd3e6d370b42006",
            "682e991d7c1c47748aa6c15201ee97ad",
            "e1563f48105c4b7197eb3442563f6f5f",
            "38c1e1bbc4184df0b35858a604efbb9e",
            "dd06eea027184182a1e00c0cdf709feb",
            "36ba2dc0436b42ab9261069d2e0619ad",
            "67330f22a91645cfbc900df14a044df8",
            "b9049633fd6043e68f8e161038dcb859",
            "40e6839d09974a6fb765f44f798b7e81",
            "3daaec373e4542aa828a7477020fe00d",
            "ec0d4038a8404ba3b0d05d99a20225c7",
            "6e163b3401c645fab33052e45418c0d7",
            "dfb880b339194af6bf4e47dee18cac7b",
            "2ccba6c56e12411e90b9071f1050a0c6",
            "68a79c67e5da469d9b687fa89b765c92",
            "8d0eb92e715b4efeaba45eee91a01b7f",
            "4493c7c2b8fa48b192fb93285d0a9076",
            "c3c912d6622f486691f2a0beb8b5e056",
            "50077a47b21b461da58bba329d04a515",
            "2211b3d88b104079831c2f8e653459cc",
            "1a879027d1a44687bbd9dca79ed2bcf8",
            "35a04cb2fc064b2c8d540148c7eebb2e",
            "9f789aeac5774b17ba2b255506a1ea10",
            "af3987fda9eb421cb2bca53458d10c8c",
            "2b35df8c88b44ec38f6169543770a900",
            "8ac3fada3ed24974bdaafdcc707caee7",
            "562732bae84b41f594f521100dfe69a0",
            "06b54fe034fc4f38975e859f89c59ecb",
            "d02ecb1993c64455a004621a41921f02",
            "600d6c3820a749fcb49fe19002ed4246",
            "ca91b3d0d07d41a7843b9cec6acb8c8d",
            "a8fcf00b3df243bcbaa0b98120085515",
            "39a16efc5f5448cbaca0941c4f6084c7",
            "27cd9377e50844c0809ab6e21e82ab05",
            "7950e5ffc104448f9a753c50dda98419",
            "1d6ac5b973cf4c75b71abf68da11c685",
            "4fc9bc0b2cb94f52baaf4174007f3dc2",
            "7659f4eebb5e40b6bdd714fafd9674f1",
            "0e48fcfdced94397a3d2af40bbb2dd19",
            "c767d1beb715495b8fcccf9787a25e6d",
            "a099854a85fd4b30a33afde307551ce3",
            "17838e0756d34366898574181742f5f7",
            "b2f36a6608154d1d8352175b1d9cb2af",
            "48520bd8c6214c4abe7a0dc75aefa890",
            "0f1a8e2c0fce4cd2acc6e341eb64c314",
            "4255197b09de43ac98493ee5732c1112",
            "32d84d0cea154486b3d346d7311d92fe",
            "089484b72f224d6ca92d107243d92645",
            "c796cade20a24831ac4e216aa51c9b69",
            "e73a5e52095e4dc99b1405c065e559cd",
            "d55437a881e4425c936d68bcedc461e2",
            "90f5ebcfe4ed422b86463995f4e65670",
            "b15ab07678d4463f9713ae6e1d27a9f8",
            "215521babd524e118ec5fe8ae9b5b6ad",
            "b0a8fd71782443b39a500a9c8bcb0ef6",
            "cee522cec470428a829c4c0f0ac5cf75",
            "76039f33e3724c08a0bfa1a4b1e37eda",
            "f474a82fd1a44f8d9247ef6435f9e7d0",
            "0c62adb2d3474b3f97c22797f34521be",
            "1f883ea106244dc78a41c4982449b712",
            "278234acadf64fbbb9ee5432444737b5",
            "0271f51121e242a380d5f8b7003c06d7",
            "a28990e41d1f4ecdbf7f1c763e8dccf8",
            "ef2c0c6e8fa4436bb4c0832bde9ed386",
            "07d6a08efacb46cf82569bdebee4fc4e",
            "3e304e0e8deb4de2bd26b1df36777217",
            "9e3dbc7e012f4af9a4af82d004fdbc87",
            "9ffb7c2aff874a77bee6037b34144c4b",
            "f8504a4de2344ae2acb2fbf247e12f36",
            "22ab098421c84707b191764b28f812f9",
            "39237e1f4aed40bebf6102bee3b5ff57",
            "aa276071d823424d8cf97d6d4d746cbb",
            "a502a88521ff4da69454e6ee613ee310",
            "307bb7d5140e47b097521f172ff28a77",
            "08e5051587bb4bf889050556e52c5ed4",
            "009fa065b2044b729a0db2c0e47ff7eb",
            "77e7d1157ee442d6acb72bcb818807b4",
            "1958a8f0b3d94327aa50511f060d3b47",
            "95311d4a40bd469eaa9cdf8b0f83badd",
            "027fd0253d354fa791fa00bff3cb0b57",
            "ce627da4b9cc418cbd6d04083075c899",
            "123443f7059546dca27d880a917d1abb",
            "b7fe83c0f9bb443481666700b11c1156",
            "25a02336351e489889f7b06313f18a26",
            "e2b3a1a76ea648ab9fc587248b9b516b",
            "a86ac9049cb24563a19a9f0c3b1e2d22",
            "b2a9813bdc6c43c19f803f6e23a143ba",
            "d3f03159f3864fe0adcf75ed1380ba01",
            "5deaa4e55d3a4dda88d52d1e6c71b0a0",
            "56a319c542f5401d80a6dbe5825302d5",
            "b9839d725c5e4fc79a11a46a452a8818",
            "5327ce5e2132492a8472424293db1391",
            "03ae4ac489de4828a372cf3f3e82b72a",
            "da8f99fcd1264b18b574bb587ed4961a",
            "499fc10b3e40421daca117ab7d1d1e0c",
            "642d1b971a19458fa778e6998ee6c3d4",
            "d11391ae679340f482d872d09670e24f",
            "30d4ef8e276e44b49acb3c7c96992714",
            "fd0d6461e92f4305b52aeaa3545b769c",
            "ff87ed72cbb04ea3b2d08d123fefce72",
            "65411218171548208fae42537462ca5e",
            "55ee1c3a2bc24e2c8ec907b846771c6e",
            "b2a2678420f744ed9175f3bc69d2001c",
            "1912a53fbb4a40cda382163d93e2f606",
            "d7d29ae4f65b4f5baf4819f10f0a8657",
            "465c110474204a0a9785cace68c9a79f",
            "26edd72d3cd843459d61d429517787c3",
            "e0bbf4e63586471a88863729eed6ad8e",
            "787500cd9eac4a3b974c5cbaa3ef3b1a",
            "804668f0374f4c12a5f5fbea11a205e4",
            "720c6a19d7a94dfaa5a4bccc25dd6865",
            "15e3d90cc4fe46b7bbb24c1963326cc0",
            "6e292637b8ea40c3821be215a1e85b15",
            "4b44513ebf4b4ea2b66deb71205c1ff8",
            "7e0ec219618e41e987c12ba8d3263796",
            "c7c3abd21569494aba73ebe2eef87a34",
            "2110b5b4d5fa4fa28176646e062c661f",
            "60e0a5678761454fbb86e4e207f16282",
            "235fb1a857dd4bb28271df28c3a84efa",
            "9b42fffd5cfe4517aa91bc477ff31e23",
            "7c0fd2a6f70340db944cdb3aeaf9cf12",
            "1d7a5795116f4b4eaab9b2719c615bc3",
            "d698d63c2dbf4df39d6e4276dfa7f1b0",
            "730d95ad119042fea985a251b9e3a8ae",
            "f544e8129e7a48628a2526b0c37ba2fb",
            "d2a219e415804def82d1ccb907ea791b",
            "c6d25a804488419ca7fad3c9883af562",
            "d76d267fde124dadaa15e4380f39558d",
            "4f3e9801f6a84520862754c3db8e02e1",
            "ac6ce740225b4332962d18bfc02ca77a",
            "d7867409b82c4cd3843777d6b91eed67",
            "89e427cdf7754dd6b6397cf3ce47cbdb",
            "a9afcfe068984e3d80c8cfe42ee17dde",
            "da13843c8d5544188c8f3ed3b917180c",
            "732692c3675e48d2b6a9f8f498b405fd",
            "07e7f41f264d465cb6f9377c4627e041",
            "c4c82439edb5439995fc786d0eb8704f",
            "00482f851505481590d70e06d8153dc9",
            "ca38b875caa7448697c6b3f4e51450b1",
            "429c11714fee4a4ba8447cd0004bc156",
            "16e9bd484c074103b2a8637e26f86064",
            "1d779a317aad4906a8ec8c6aa5357b4a",
            "69a02ccb28db42c9ac2ff72f998ab3c7",
            "3e03ac4e09c0422a8c2ad4abbe2efc44",
            "3abc506c3b40494d822cdd0b594a9b90",
            "7e7cf94217804405bffc42a52221dad7",
            "8668f30f8c214324a2e20e75a153c348",
            "be41a982488e4f5fb875194b11935dd0",
            "e24a0db34b73444aada1a3c9fff5e918",
            "1e4551dec50449c5ae09451d9ecddfac",
            "284db93a67f54e3b93bf9f897a6c18df",
            "5ae158b21cd4458d959fb1ec46800222",
            "d7ca86aec59644f7ad1b53709292aa8f",
            "e71950f5766d4df5ae981957dcecee66",
            "694728bbe20b4d61b41e2e144dfc1c10",
            "79e22e09a75543c998e43eebf246dda6",
            "28eb6660adab4b40a0b8a6e1d1925410",
            "a0eced1c89034f4d9c80f5ffc89a997b",
            "0b5c284eca9c42c29799f696dc32a114",
            "99f56682403a4abeaeb3309014449a8b",
            "58bc60dedca0442d98c653522690ec25",
            "b7c9405b88fb41d59f12df1437e4882d",
            "008f6c517f8641e1806c3e4736d8c91b",
            "066683943b8d49c58bc5453b634fce19",
            "a35f5f4d0de84a33bd1007e3b20e2935",
            "1b6b498770a840468ffc6053ee671aa4",
            "dead98cdc0f14ce69ec9ba5de7a39df1",
            "1025050a001f4e558e3bfc70b7d0b170",
            "7ca066f3579d40a9aa404bddfdeca496",
            "446f0837632f43e9bc2cd65991f17023",
            "920d8c2db5a84aa8a6e3b63584d34a52",
            "957ea82ee5254c80889033f0c2f13ed8",
            "e2882e16ee7642d081b396a79f3f2f2a",
            "ca4a7158d7d44bea872bcf4d95caace2",
            "abc378d33746451f8eb5f285761cc5ed",
            "0f53d398e0ec48e8bb754d740f1703da",
            "8d75a45a9ab84490ad05033b314cc9c4",
            "c093788fb72849579a8363433e5f09ca",
            "fbef4829b64a452db9963be846650a5e",
            "975e4ff775a74a37afed54aa5b65d116",
            "0cd2d168b30c4afa83662aafebd743b5",
            "c7f40000c2954c9684ce3747a39d2f7a",
            "8d2dbfe54d1c4f8daf9e2f4b6bdbdb93",
            "ef9830a7505244b79c8a2638aa738d55",
            "c15d290ed37c4fe4b1165e5aee34b38a",
            "4f2f3df1dcf34534b5ae93b47cecf39a",
            "aa54d144cb9b4eb1a56adb46d323813f",
            "cabe0dbbeae846d180906df2082d098a",
            "9b5795c468cd48d1808ad7fd4317163f",
            "d11008c203fe4f5c9fcc2358429a23d1",
            "d8845ba93ded4f8fa5b82ca93161f0e6",
            "58bd7e6c377542cf8b52388621a7b5e8",
            "b15660c32f2b4c25876452669f2b1c47",
            "ee01f618748445149c45e83c9ad0ad7d",
            "d2e0ef7fba62449da7feb87f3c0a5afd",
            "127ec29d4b3945b9803d5dd4699e0f39",
            "cff6a19239aa4fb7889edfaa11b35d3f",
            "5f9707fb640a4a93bc90f03a55be471e",
            "42adcd0da8ab4ed58183614069c7e78a",
            "ff763256108543e8ac0d11691ae5dbc8",
            "2f4b946fc18e4e2ba16ac89b5bc60b4e",
            "e53cccb63d27498c9533677ad6cd4d58",
            "95ba167ec1804536a511de5bac6cb98b"
          ]
        },
        "id": "3dc4f58c",
        "outputId": "df1d011b-84e1-45fe-ee43-b8fe83b4f6b1"
      },
      "outputs": [
        {
          "name": "stderr",
          "output_type": "stream",
          "text": [
            "/usr/local/lib/python3.12/dist-packages/torchvision/models/_utils.py:208: UserWarning: The parameter 'pretrained' is deprecated since 0.13 and may be removed in the future, please use 'weights' instead.\n",
            "  warnings.warn(\n",
            "/usr/local/lib/python3.12/dist-packages/torchvision/models/_utils.py:223: UserWarning: Arguments other than a weight enum or `None` for 'weights' are deprecated since 0.13 and may be removed in the future. The current behavior is equivalent to passing `weights=ResNet18_Weights.IMAGENET1K_V1`. You can also use `weights=ResNet18_Weights.DEFAULT` to get the most up-to-date weights.\n",
            "  warnings.warn(msg)\n"
          ]
        },
        {
          "data": {
            "text/plain": [
              "Epochs:   0%|          | 0/10 [00:00<?, ?it/s]"
            ]
          },
          "metadata": {},
          "output_type": "display_data"
        },
        {
          "data": {
            "text/plain": [
              "Training:   0%|          | 0/782 [00:00<?, ?it/s]"
            ]
          },
          "metadata": {},
          "output_type": "display_data"
        },
        {
          "name": "stdout",
          "output_type": "stream",
          "text": [
            "Epoch [1/10], Loss: 1.1836\n"
          ]
        },
        {
          "data": {
            "text/plain": [
              "Testing:   0%|          | 0/157 [00:00<?, ?it/s]"
            ]
          },
          "metadata": {},
          "output_type": "display_data"
        },
        {
          "name": "stdout",
          "output_type": "stream",
          "text": [
            "Accuracy on test set: 80.07%\n"
          ]
        },
        {
          "data": {
            "text/plain": [
              "Training:   0%|          | 0/782 [00:00<?, ?it/s]"
            ]
          },
          "metadata": {},
          "output_type": "display_data"
        },
        {
          "name": "stdout",
          "output_type": "stream",
          "text": [
            "Epoch [2/10], Loss: 1.0109\n"
          ]
        },
        {
          "data": {
            "text/plain": [
              "Testing:   0%|          | 0/157 [00:00<?, ?it/s]"
            ]
          },
          "metadata": {},
          "output_type": "display_data"
        },
        {
          "name": "stdout",
          "output_type": "stream",
          "text": [
            "Accuracy on test set: 79.98%\n"
          ]
        },
        {
          "data": {
            "text/plain": [
              "Training:   0%|          | 0/782 [00:00<?, ?it/s]"
            ]
          },
          "metadata": {},
          "output_type": "display_data"
        },
        {
          "name": "stdout",
          "output_type": "stream",
          "text": [
            "Epoch [3/10], Loss: 0.9803\n"
          ]
        },
        {
          "data": {
            "text/plain": [
              "Testing:   0%|          | 0/157 [00:00<?, ?it/s]"
            ]
          },
          "metadata": {},
          "output_type": "display_data"
        },
        {
          "name": "stdout",
          "output_type": "stream",
          "text": [
            "Accuracy on test set: 80.43%\n"
          ]
        },
        {
          "data": {
            "text/plain": [
              "Training:   0%|          | 0/782 [00:00<?, ?it/s]"
            ]
          },
          "metadata": {},
          "output_type": "display_data"
        },
        {
          "name": "stdout",
          "output_type": "stream",
          "text": [
            "Epoch [4/10], Loss: 0.9570\n"
          ]
        },
        {
          "data": {
            "text/plain": [
              "Testing:   0%|          | 0/157 [00:00<?, ?it/s]"
            ]
          },
          "metadata": {},
          "output_type": "display_data"
        },
        {
          "name": "stdout",
          "output_type": "stream",
          "text": [
            "Accuracy on test set: 81.54%\n"
          ]
        },
        {
          "data": {
            "text/plain": [
              "Training:   0%|          | 0/782 [00:00<?, ?it/s]"
            ]
          },
          "metadata": {},
          "output_type": "display_data"
        },
        {
          "name": "stdout",
          "output_type": "stream",
          "text": [
            "Epoch [5/10], Loss: 0.9425\n"
          ]
        },
        {
          "data": {
            "text/plain": [
              "Testing:   0%|          | 0/157 [00:00<?, ?it/s]"
            ]
          },
          "metadata": {},
          "output_type": "display_data"
        },
        {
          "name": "stdout",
          "output_type": "stream",
          "text": [
            "Accuracy on test set: 80.93%\n"
          ]
        },
        {
          "data": {
            "text/plain": [
              "Training:   0%|          | 0/782 [00:00<?, ?it/s]"
            ]
          },
          "metadata": {},
          "output_type": "display_data"
        },
        {
          "name": "stdout",
          "output_type": "stream",
          "text": [
            "Epoch [6/10], Loss: 0.8883\n"
          ]
        },
        {
          "data": {
            "text/plain": [
              "Testing:   0%|          | 0/157 [00:00<?, ?it/s]"
            ]
          },
          "metadata": {},
          "output_type": "display_data"
        },
        {
          "name": "stdout",
          "output_type": "stream",
          "text": [
            "Accuracy on test set: 82.40%\n"
          ]
        },
        {
          "data": {
            "text/plain": [
              "Training:   0%|          | 0/782 [00:00<?, ?it/s]"
            ]
          },
          "metadata": {},
          "output_type": "display_data"
        },
        {
          "name": "stdout",
          "output_type": "stream",
          "text": [
            "Epoch [7/10], Loss: 0.8714\n"
          ]
        },
        {
          "data": {
            "text/plain": [
              "Testing:   0%|          | 0/157 [00:00<?, ?it/s]"
            ]
          },
          "metadata": {},
          "output_type": "display_data"
        },
        {
          "name": "stdout",
          "output_type": "stream",
          "text": [
            "Accuracy on test set: 82.62%\n"
          ]
        },
        {
          "data": {
            "text/plain": [
              "Training:   0%|          | 0/782 [00:00<?, ?it/s]"
            ]
          },
          "metadata": {},
          "output_type": "display_data"
        },
        {
          "name": "stdout",
          "output_type": "stream",
          "text": [
            "Epoch [8/10], Loss: 0.8654\n"
          ]
        },
        {
          "data": {
            "text/plain": [
              "Testing:   0%|          | 0/157 [00:00<?, ?it/s]"
            ]
          },
          "metadata": {},
          "output_type": "display_data"
        },
        {
          "name": "stdout",
          "output_type": "stream",
          "text": [
            "Accuracy on test set: 82.47%\n"
          ]
        },
        {
          "data": {
            "text/plain": [
              "Training:   0%|          | 0/782 [00:00<?, ?it/s]"
            ]
          },
          "metadata": {},
          "output_type": "display_data"
        },
        {
          "name": "stdout",
          "output_type": "stream",
          "text": [
            "Epoch [9/10], Loss: 0.8734\n"
          ]
        },
        {
          "data": {
            "text/plain": [
              "Testing:   0%|          | 0/157 [00:00<?, ?it/s]"
            ]
          },
          "metadata": {},
          "output_type": "display_data"
        },
        {
          "name": "stdout",
          "output_type": "stream",
          "text": [
            "Accuracy on test set: 82.53%\n"
          ]
        },
        {
          "data": {
            "text/plain": [
              "Training:   0%|          | 0/782 [00:00<?, ?it/s]"
            ]
          },
          "metadata": {},
          "output_type": "display_data"
        },
        {
          "name": "stdout",
          "output_type": "stream",
          "text": [
            "Epoch [10/10], Loss: 0.8688\n"
          ]
        },
        {
          "data": {
            "text/plain": [
              "Testing:   0%|          | 0/157 [00:00<?, ?it/s]"
            ]
          },
          "metadata": {},
          "output_type": "display_data"
        },
        {
          "name": "stdout",
          "output_type": "stream",
          "text": [
            "Accuracy on test set: 83.08%\n"
          ]
        }
      ],
      "source": [
        "from torch.optim.lr_scheduler import StepLR\n",
        "\n",
        "# Define the model, loss function, and optimizer\n",
        "model = TransferCIFAR10(num_classes=10).to(device)\n",
        "criterion = nn.CrossEntropyLoss()\n",
        "optimizer = torch.optim.Adam(model.parameters(), lr=0.001)\n",
        "\n",
        "# Instantiate the StepLR scheduler\n",
        "scheduler = StepLR(optimizer, step_size=5, gamma=0.1)\n",
        "\n",
        "\n",
        "train_dataloader = DataLoader(train_dataset, batch_size=64, shuffle=True)\n",
        "test_dataloader = DataLoader(test_dataset, batch_size=64, shuffle=False)\n",
        "\n",
        "num_epochs = 10\n",
        "for epoch in tqdm(range(num_epochs), desc=\"Epochs\"):\n",
        "  model.train()\n",
        "  running_loss = 0.0\n",
        "  for inputs, labels in tqdm(train_dataloader, desc=\"Training\", leave=False):\n",
        "    inputs, labels = inputs.to(device), labels.to(device)\n",
        "    optimizer.zero_grad()\n",
        "\n",
        "    outputs = model(inputs)\n",
        "    loss = criterion(outputs, labels)\n",
        "\n",
        "    loss.backward()\n",
        "    optimizer.step()\n",
        "\n",
        "    running_loss += loss.item()\n",
        "\n",
        "  # Step the scheduler after the optimizer step\n",
        "  scheduler.step()\n",
        "\n",
        "  # Print epoch statistics\n",
        "  print(f\"Epoch [{epoch+1}/{num_epochs}], Loss: {running_loss/len(train_dataloader):.4f}\")\n",
        "\n",
        "  model.eval()\n",
        "  correct = 0\n",
        "  total = 0\n",
        "  with torch.no_grad():\n",
        "    for inputs, labels in tqdm(test_dataloader, desc=\"Testing\", leave=False):\n",
        "      inputs, labels = inputs.to(device), labels.to(device)\n",
        "      outputs = model(inputs)\n",
        "      _, predicted = torch.max(outputs.data, 1)\n",
        "      total += labels.size(0)\n",
        "      correct += (predicted == labels).sum().item()\n",
        "  print(f\"Accuracy on test set: {100 * correct / total:.2f}%\")"
      ]
    },
    {
      "cell_type": "markdown",
      "metadata": {
        "id": "fed1c52e"
      },
      "source": [
        "## Fine-tuning strategy\n",
        "\n",
        "Implement a second training loop to fine-tune the model by unfreezing some convolutional layers and using a new optimizer with a smaller learning rate.\n"
      ]
    },
    {
      "cell_type": "code",
      "execution_count": 17,
      "metadata": {
        "colab": {
          "base_uri": "https://localhost:8080/",
          "height": 492,
          "referenced_widgets": [
            "bced719c2a1e4b939cd6acd1b589f0d9",
            "30599851dc4347fdaa8370ff897762b4",
            "9204ce76024f414493d76e4efe1848cc",
            "5c0399a8e657455e89e3e72e392f6802",
            "a12e8a2252ac4bfb94cac17a75a7d8f8",
            "799e73692a614f5dace48384cedc274a",
            "a111ed23fe4041788ff56bc72068861e",
            "d4e021acb1834138895a2a54bf9bd2f0",
            "3211d1fb93da404e8a360b17d47672b2",
            "999abbcba1c34f9bb71b11cfd3211db7",
            "5422f80454c243e7ae31f27e9df7d1ed",
            "b711d86d81f74e3ebcfcb9bf141d90de",
            "b1f96417a0a145f5bfa84dd20ef04537",
            "0b2cae64151844b4b3253bf1d7fb1a88",
            "67f19c0021b94f08aee29615d00dd7e1",
            "02b04a4d06a2419fb1bb83b705ce34b0",
            "c056302ad42745a080f74e16f37ce89f",
            "143c7f5ffacf48e396eb0dccabd6fc31",
            "84a55d4b55ce4065aa6001f0daaab9b9",
            "1adfd166c1f7486791e41819731c1968",
            "bd268dfedb50414786fc50fe394889cc",
            "b2c1e1736bd149669a74336c99f5a974",
            "6a818054c5354fcf841f084f162ae87b",
            "fc558d96d70d47649725682e8ce106ab",
            "42026420ebf146a981bee22a9e09fb9f",
            "971c7f6139a345539fd4186f6277a902",
            "163287c604fc4d8f99dd2f0208551777",
            "5a8f45c70b9c432589a6120d1d44635f",
            "406aea5e6beb4d11b54a63d6a7897d0a",
            "53a0bf70abaf40d0b30b666a478ad237",
            "591c818af2d147cf8fd07f4a11e8fc64",
            "ba3335de8c3c4da19492411a4a02d531",
            "c211f96c06be4362863c66dd470bfbed",
            "ae3acec9bce74ef8ade7767a6f6ccca2",
            "76c3b0e5b1dc42209a791f87ccf4a6f8",
            "7d82e5308bf840779be0064096ec66a8",
            "1cedd16325df432bb5d6b5dc0bb3e9e8",
            "4a3697bfaeba47479971bfd3c511925c",
            "f885e769923d4afaa46e4d08cf5b6d98",
            "77430639d9774afeb3ee093890fb0083",
            "09c440e4ffa04d5caa93b9e009180e5e",
            "62390a16b2684ce2b1bd730a0f62d90d",
            "b89ad1a8e1184ee0bb2998c308e62b45",
            "48f931b74a5b4dbab1c0dd5690b2566d",
            "ac7feaedba19450eb62ba0a52c3097d2",
            "249a75f28ae047109b34caa3bec5917e",
            "18df3503a181480db425cfeb9d19f8be",
            "187cbd52dbf141d59950ccee99a4da6a",
            "6ac7c81c1fb2485ca207021b6afbda15",
            "6ea50a51680e4a888e8a518615b9b168",
            "8e958d82e1d34e668d0760c5655bd00b",
            "1c925d3b98e442289ab6ccad92aba0d6",
            "c34f94a6bb5a43f8b7d5c616dd936cfb",
            "efa1d29a9f524bd7b538dbb63fdc596b",
            "bb338104811648ccbe73ec196d858356",
            "a04cd6a00f824139ba8fd590bc4cf34a",
            "f7554255034f49aea8dca2d2824ae21c",
            "7010262402fb4cdca0f2befac2da3062",
            "b8288e259d264c189c4ff9e8f61cb24b",
            "b40058322c9a4e3283eeeb24e34205ac",
            "45075102010544b9b158f85285150589",
            "837c31963be147debff34ff0dd587c45",
            "fe348fd76b214166af576f256e352de7",
            "858f92e8422442ac8c22e62bc3df2033",
            "0c8eeaccca7f4041a13002fc5f7d37cf",
            "148350c1de5c4e1fbda3e2fcd31c72da",
            "ebd0db12b79240c2b56a879662f28ecd",
            "8ace140358a84861bbbcae11600225ad",
            "62f1f976c7cd40d9bba6694b9bf2f635",
            "bf73eef69242421ca1367b2bfefa0373",
            "444fd9c7a05a4722a0786f57824d796b",
            "575661cf75644d05bc1e99d19a4280c2",
            "81c8139f40934fc0a5bd8ddc35c44826",
            "445a3ab4095c43dbb5eddda50f95f797",
            "d3c1d48d68874992abcb06b9b578b233",
            "e755c200bcab4521a66145df5bfc50f7",
            "3250cfb1f10847b8bcccaa0ac1a2a877",
            "67fd687c75a34c129ac0afa6f1ecece1",
            "44055e531fc4407289ee271e29353aa7",
            "a03d9d586cd14d639860c72ef3aba46b",
            "24598466b5b74d1e8f4dba5f7876d9e6",
            "e283c02ca746403a898bbf04d94ff270",
            "30f1c549d2c349689b4e0245c6edeb3f",
            "5dfc98dd9c514e099bf662aeaa4aee11",
            "f434637efb8c443ca5f90f1fe7114585",
            "6ef83584e3a5428fb10fa1cd47ac71c1",
            "28971127923e4ec2bf4ce17b43028475",
            "51ae01c4e16a4d3bb59eac40a865b622",
            "c9c039499f8a4b66bae309707f87475b",
            "8ccae51c8be44bc08d2911ebda8771b2",
            "99fba19ca6e347ec83b3627c3d476e1f",
            "28fc9db68f5041c5b967cf9f3cbad434",
            "15cee4ac9eb84c60a711d2112070be7b",
            "8a17280b3be34967b3f469fa685db0a4",
            "8b966b10c7bc419c9df7d2d5ec18b4a9",
            "0d75c428d5ff490096de079b92a1fadc",
            "fb751827fdfd43eba8648955c17a495d",
            "261d2f26bc70452b8a9de48c342b5561",
            "be69d932d1b44e3d94eced6f70315a47",
            "853e3000760b4313815c8d939b3500c1",
            "34d07cd3d8654521b0833b1338cfd2df",
            "5a3d073c7e7a40d79181e126d301fb28",
            "805cebbd18644867948514fcfb16bb09",
            "c27dd453c1f94037bb5ce41d1cfec282",
            "53d8cb74f63e4692a3e17388ba52d782",
            "99b872b7856e439489fb9c5af8564562",
            "3049e93b643f47f19d99e89eb704e322",
            "97f66014ded044e1a61a51eeed3cf57f",
            "b1378e8818f34844a22578dc37bd2d88",
            "de69bec0dc6d43fda98eca42064ddfc8",
            "9e8ef84e830643388b198a45b9e1db27",
            "73a1fd2c4b234e8781021959575486ba",
            "9fd8a7d1f5364efb887ca5582728df4b",
            "f9f2d435c39e4e7185ee20f6c6b0e00b",
            "ed0a51eb69164a4aade05577553ca368",
            "7615da5291d64eada80c1b05f70b14fa",
            "c078bbf1483b4a37a9042f49c96f8871",
            "651db0303dd04061a1e9f90ad8b0adc6",
            "6a28491e895e43c68d2867e50278f0f8",
            "4d323c064d974ed2ace490e731230f40",
            "f257d19e3ffe4301898382d1cbaa92c3",
            "1858163217004a9eaf164c0353b89a9d",
            "7eda6f9e12204a7c9b9e0b7ba7b9f30f",
            "29ef6a6ea6dd48a4bda327980e0cacba",
            "a943748778e04737b80a823cbacd7dc5",
            "daaccd4f53e5457b8f39b239498c6b99",
            "3b0b95ed8c2647efbc8a47bd6855ab84",
            "4d87a4827a4f43eb8cb4c1944a34182d",
            "8c504bd92f04479c857647cc1ab936a7",
            "c6b9ccf3280444ef8cface135b364270",
            "7a51de2b4bc14fb3ba5e0f85873d90a0",
            "b1c52fce467f4b968725e98709bc2b70",
            "2aa75a8414f24a55a13c533e8b5626aa",
            "642929be4e1545efaa7aee1fdd7ab2a1",
            "1a65ff8dd5db4e44a1e15adc41025526",
            "bf9eccf8cb7f48fcbf56163b11e77217",
            "95d755a74393453dbfa1b7953d8becd0",
            "e3686e8928f24c80b0248e6e09cd2d80",
            "2d2fec72f48d4a4e8e45c36e7a44fab9",
            "f4e3fcb034f7482b82bb4b191273d756",
            "af147fbf1baf4539a1aef9ae460b41d0",
            "2a07b3cdced74964ad1c31a3b074613b",
            "094553197b3d434589ce9eccf107db6b",
            "72e4341af62a4fb6855de8e0e4d7d2c0",
            "10870b4d27074600a710ffbae031e4eb",
            "0f2e764ce04e46cc96c3214adf58b54c",
            "56827d426b494a1c9700978f66842df4",
            "49aced4f14a64b00a39a1201a89f9096",
            "062e7db7720f4835a1a4a726108c5540",
            "0b72fd5009004bae9bb76ab65e78a64a",
            "f58de1f51aa94c418a6d995c8b7cbced",
            "3aca1bb0602f40c1bdb57dc7377d85e4",
            "c5fcc19d2030480f9f7ac4e3fe6dc6a4",
            "f48bd8d5ad5849538b74966b7d906437",
            "cf090fb97e874331a85fb8108b0523a4",
            "0f6537c53427461eb827507bd411f787",
            "561a47df61b14977a24dc342f9193913",
            "d014d2408ea64698b4f72855fa64f22a",
            "c9a804752ccc48bebf0c1dca1d62ae44",
            "40aab49efea14927b375d87ef7cf1ebf",
            "2e37ae824643493dad996446f7f0ced9",
            "3de5eaecdd8a49a68c2047d5188939f0",
            "740ed088eaa7498b831424b74027c380",
            "6986ec3e497a4e3690e9794a4cf8d9e8",
            "a59c77a509c14013a5d371d69b43339c",
            "938704b08a1f48b2b2da7fa5f798ecec",
            "9049508f9af648c49847290beb890a23",
            "7966fb4cc5ba4135b09f5a53abc99d5c",
            "c0efa31e921742f8a403e1d1cdabcdc8",
            "49f6817853c04601983a93a67fd1346e",
            "53c44492ecbe4ad382cd3f6b70fbf437",
            "b78c2eaffdcf469b92c1399905430d27",
            "3b8a0c85b0fe412f9624d8a90e71ae9c",
            "0dbe6e46fc184f8293d5e582036d274c",
            "09b0f95d8f09404681eba74bbf05508d",
            "c25835758641460bb5ab65f41cf9d3ca",
            "f59c17ca21af4044844a71ea4740dfcc",
            "8e435bd037dd4ac4a76c5bf95f283ed9",
            "b9b8f7c37d6047dc8400f4ff10cdfaa3",
            "37d710e4d3814fb1b086a98e6d7bdf87",
            "9d9163f1abf4424ba63bfaf73a5c4873",
            "7bb3d91b4bc34aba9cce2b40578d7f1f",
            "e4d0a018736d46819bc02b0b57d41911",
            "1c842894f128412496821fcdb4bd1f5c",
            "322aa4af444240c8b9ff9db05b6bafcb",
            "58d78cce1ce6447eb95a91c39b9a7b2c",
            "eeab5f901168465cb1bd444506a29f21",
            "833d3bfe41ad438d90d7d077dba71dbb",
            "1865c14b6ed44c409bb84e947cd4e42d",
            "521212aa1faa44cbb210bcd753a1693d",
            "46bb9810732f490ab3f2d67e6c2793db",
            "0b013b379d40451c8e3c52abc31e8a8e",
            "9bfac66a33984e36b99e10bdcd0585df",
            "5fce9a60e7f4425191d76ed650edbae5",
            "c7ffa0594236436ca65b80db0c170306",
            "e642bfe28d4640339ffffb58669dad01",
            "7f244df6862c44359cb7bbf7c513bfca",
            "2f8f381c28a84dad8bd3bc2332e7ca61",
            "06ffb88a1a784a48bb90fc458c710d58",
            "063ec6acaba94d2d954f7c75476fc5b3",
            "86e185efd1684dc6a32763393cc8266d",
            "443a44a4e1644f0ebf24ffab5de1e128",
            "9550845497954108b5af2f1e3f4ecf8f",
            "fe88a684de4e45a18dddc47f66a7a222",
            "b3955e14e0904bde9bd759f994101484",
            "de033876b6124a6a88767545aae5a3ee",
            "71da1c568cbf4f44937906e1f2e92909",
            "5c6890b8914e4193874c7fd8e45b426c",
            "e90a1ca36f744f868fc10dfd32bf62c3",
            "945f450ecd4147f8adf3e967d7448a26",
            "2065431e533845cb9e4219a3d8f136ed",
            "d34737660c1b470192d2afc85c0bc6a9",
            "0e61d16f779f46f3b35d3e344d48994c",
            "a7dcca2d496244a0888ab1460f178808",
            "aff6a12844194243811104fe522e4b89",
            "69dd5276bb724b18b38c47a415e70f68",
            "36e465dc558d4d8e88d038378c221603",
            "928569d522b34553af6b1ceddc517090",
            "4634c551bd334dd0a522450977b5bd44",
            "9b06b51f6b2f420cb0d4e9044231892c",
            "c2fde5e5850342079f6c3336445de4fa",
            "d8c9e36727504a32a678106e0de8a46e",
            "afe966eb12f1418b8689a0d90bf261a7",
            "d4c9cb912f4f4ebb9e20750391f60d12",
            "6803b7981e574df0831fd2ee11eafbd4",
            "821dcb7ea0bb4a15ad791151c0724adc",
            "8d7306327f764756a9396a7683628f34",
            "4cfdaae7079c4f6f883a17864f68d0f3",
            "42fe7dab78f149e5b051fd354cb60afa",
            "36090b00ac5445c8b8e3f43df97ef6bf",
            "e0db171405c4451aa3081927f68242ca"
          ]
        },
        "id": "3b265e09",
        "outputId": "199cf78f-8366-41d0-b633-899a3f8b5d60"
      },
      "outputs": [
        {
          "name": "stdout",
          "output_type": "stream",
          "text": [
            "\n",
            "Starting fine-tuning...\n"
          ]
        },
        {
          "data": {
            "text/plain": [
              "Fine-tuning Epochs:   0%|          | 0/10 [00:00<?, ?it/s]"
            ]
          },
          "metadata": {},
          "output_type": "display_data"
        },
        {
          "data": {
            "text/plain": [
              "Fine-tuning Training:   0%|          | 0/782 [00:00<?, ?it/s]"
            ]
          },
          "metadata": {},
          "output_type": "display_data"
        },
        {
          "name": "stdout",
          "output_type": "stream",
          "text": [
            "Fine-tuning Epoch [1/10], Loss: 0.1455\n"
          ]
        },
        {
          "data": {
            "text/plain": [
              "Fine-tuning Testing:   0%|          | 0/157 [00:00<?, ?it/s]"
            ]
          },
          "metadata": {},
          "output_type": "display_data"
        },
        {
          "name": "stdout",
          "output_type": "stream",
          "text": [
            "Fine-tuning Accuracy on test set: 94.80%\n"
          ]
        },
        {
          "data": {
            "text/plain": [
              "Fine-tuning Training:   0%|          | 0/782 [00:00<?, ?it/s]"
            ]
          },
          "metadata": {},
          "output_type": "display_data"
        },
        {
          "name": "stdout",
          "output_type": "stream",
          "text": [
            "Fine-tuning Epoch [2/10], Loss: 0.1410\n"
          ]
        },
        {
          "data": {
            "text/plain": [
              "Fine-tuning Testing:   0%|          | 0/157 [00:00<?, ?it/s]"
            ]
          },
          "metadata": {},
          "output_type": "display_data"
        },
        {
          "name": "stdout",
          "output_type": "stream",
          "text": [
            "Fine-tuning Accuracy on test set: 94.53%\n"
          ]
        },
        {
          "data": {
            "text/plain": [
              "Fine-tuning Training:   0%|          | 0/782 [00:00<?, ?it/s]"
            ]
          },
          "metadata": {},
          "output_type": "display_data"
        },
        {
          "name": "stdout",
          "output_type": "stream",
          "text": [
            "Fine-tuning Epoch [3/10], Loss: 0.1315\n"
          ]
        },
        {
          "data": {
            "text/plain": [
              "Fine-tuning Testing:   0%|          | 0/157 [00:00<?, ?it/s]"
            ]
          },
          "metadata": {},
          "output_type": "display_data"
        },
        {
          "name": "stdout",
          "output_type": "stream",
          "text": [
            "Fine-tuning Accuracy on test set: 94.84%\n"
          ]
        },
        {
          "data": {
            "text/plain": [
              "Fine-tuning Training:   0%|          | 0/782 [00:00<?, ?it/s]"
            ]
          },
          "metadata": {},
          "output_type": "display_data"
        },
        {
          "name": "stdout",
          "output_type": "stream",
          "text": [
            "Fine-tuning Epoch [4/10], Loss: 0.1085\n"
          ]
        },
        {
          "data": {
            "text/plain": [
              "Fine-tuning Testing:   0%|          | 0/157 [00:00<?, ?it/s]"
            ]
          },
          "metadata": {},
          "output_type": "display_data"
        },
        {
          "name": "stdout",
          "output_type": "stream",
          "text": [
            "Fine-tuning Accuracy on test set: 95.20%\n"
          ]
        },
        {
          "data": {
            "text/plain": [
              "Fine-tuning Training:   0%|          | 0/782 [00:00<?, ?it/s]"
            ]
          },
          "metadata": {},
          "output_type": "display_data"
        },
        {
          "name": "stdout",
          "output_type": "stream",
          "text": [
            "Fine-tuning Epoch [5/10], Loss: 0.0937\n"
          ]
        },
        {
          "data": {
            "text/plain": [
              "Fine-tuning Testing:   0%|          | 0/157 [00:00<?, ?it/s]"
            ]
          },
          "metadata": {},
          "output_type": "display_data"
        },
        {
          "name": "stdout",
          "output_type": "stream",
          "text": [
            "Fine-tuning Accuracy on test set: 95.46%\n"
          ]
        },
        {
          "data": {
            "text/plain": [
              "Fine-tuning Training:   0%|          | 0/782 [00:00<?, ?it/s]"
            ]
          },
          "metadata": {},
          "output_type": "display_data"
        },
        {
          "name": "stdout",
          "output_type": "stream",
          "text": [
            "Fine-tuning Epoch [6/10], Loss: 0.0921\n"
          ]
        },
        {
          "data": {
            "text/plain": [
              "Fine-tuning Testing:   0%|          | 0/157 [00:00<?, ?it/s]"
            ]
          },
          "metadata": {},
          "output_type": "display_data"
        },
        {
          "name": "stdout",
          "output_type": "stream",
          "text": [
            "Fine-tuning Accuracy on test set: 95.58%\n"
          ]
        },
        {
          "data": {
            "text/plain": [
              "Fine-tuning Training:   0%|          | 0/782 [00:00<?, ?it/s]"
            ]
          },
          "metadata": {},
          "output_type": "display_data"
        },
        {
          "name": "stdout",
          "output_type": "stream",
          "text": [
            "Fine-tuning Epoch [7/10], Loss: 0.0895\n"
          ]
        },
        {
          "data": {
            "text/plain": [
              "Fine-tuning Testing:   0%|          | 0/157 [00:00<?, ?it/s]"
            ]
          },
          "metadata": {},
          "output_type": "display_data"
        },
        {
          "name": "stdout",
          "output_type": "stream",
          "text": [
            "Fine-tuning Accuracy on test set: 95.71%\n"
          ]
        },
        {
          "data": {
            "text/plain": [
              "Fine-tuning Training:   0%|          | 0/782 [00:00<?, ?it/s]"
            ]
          },
          "metadata": {},
          "output_type": "display_data"
        },
        {
          "name": "stdout",
          "output_type": "stream",
          "text": [
            "Fine-tuning Epoch [8/10], Loss: 0.0867\n"
          ]
        },
        {
          "data": {
            "text/plain": [
              "Fine-tuning Testing:   0%|          | 0/157 [00:00<?, ?it/s]"
            ]
          },
          "metadata": {},
          "output_type": "display_data"
        },
        {
          "name": "stdout",
          "output_type": "stream",
          "text": [
            "Fine-tuning Accuracy on test set: 95.71%\n"
          ]
        },
        {
          "data": {
            "text/plain": [
              "Fine-tuning Training:   0%|          | 0/782 [00:00<?, ?it/s]"
            ]
          },
          "metadata": {},
          "output_type": "display_data"
        },
        {
          "name": "stdout",
          "output_type": "stream",
          "text": [
            "Fine-tuning Epoch [9/10], Loss: 0.0884\n"
          ]
        },
        {
          "data": {
            "text/plain": [
              "Fine-tuning Testing:   0%|          | 0/157 [00:00<?, ?it/s]"
            ]
          },
          "metadata": {},
          "output_type": "display_data"
        },
        {
          "name": "stdout",
          "output_type": "stream",
          "text": [
            "Fine-tuning Accuracy on test set: 95.75%\n"
          ]
        },
        {
          "data": {
            "text/plain": [
              "Fine-tuning Training:   0%|          | 0/782 [00:00<?, ?it/s]"
            ]
          },
          "metadata": {},
          "output_type": "display_data"
        },
        {
          "name": "stdout",
          "output_type": "stream",
          "text": [
            "Fine-tuning Epoch [10/10], Loss: 0.0903\n"
          ]
        },
        {
          "data": {
            "text/plain": [
              "Fine-tuning Testing:   0%|          | 0/157 [00:00<?, ?it/s]"
            ]
          },
          "metadata": {},
          "output_type": "display_data"
        },
        {
          "name": "stdout",
          "output_type": "stream",
          "text": [
            "Fine-tuning Accuracy on test set: 95.79%\n",
            "\n",
            "Fine-tuning finished.\n"
          ]
        }
      ],
      "source": [
        "# Second training loop for fine-tuning\n",
        "print(\"\\nStarting fine-tuning...\")\n",
        "\n",
        "# Selectively unfreeze layers. Let's unfreeze the last two convolutional blocks (layer4 and layer3 in ResNet18)\n",
        "for name, param in model.named_parameters():\n",
        "    if param.requires_grad == False:\n",
        "        # Unfreeze parameters in the last two layers (layer4 and layer3) and the final classifier\n",
        "        if 'layer4' in name or 'layer3' in name or 'classifier' in name:\n",
        "             param.requires_grad = True\n",
        "             print(f\"Unfreezing parameter: {name}\")\n",
        "\n",
        "\n",
        "# Create a new optimizer for the fine-tuning phase with a smaller learning rate\n",
        "# Include parameters from the unfrozen convolutional layers and the classifier head\n",
        "fine_tune_optimizer = torch.optim.Adam(filter(lambda p: p.requires_grad, model.parameters()), lr=0.0001) # Smaller learning rate for fine-tuning\n",
        "\n",
        "# Instantiate a new scheduler for the fine-tuning phase\n",
        "fine_tune_scheduler = StepLR(fine_tune_optimizer, step_size=3, gamma=0.1)\n",
        "\n",
        "num_fine_tune_epochs = 10\n",
        "for epoch in tqdm(range(num_fine_tune_epochs), desc=\"Fine-tuning Epochs\"):\n",
        "    model.train()\n",
        "    running_loss = 0.0\n",
        "    for inputs, labels in tqdm(train_dataloader, desc=\"Fine-tuning Training\", leave=False):\n",
        "        inputs, labels = inputs.to(device), labels.to(device)\n",
        "        fine_tune_optimizer.zero_grad()\n",
        "\n",
        "        outputs = model(inputs)\n",
        "        loss = criterion(outputs, labels)\n",
        "\n",
        "        loss.backward()\n",
        "        fine_tune_optimizer.step()\n",
        "\n",
        "        running_loss += loss.item()\n",
        "\n",
        "    # Step the fine-tune scheduler after the optimizer step\n",
        "    fine_tune_scheduler.step()\n",
        "\n",
        "    # Print epoch statistics\n",
        "    print(f\"Fine-tuning Epoch [{epoch+1}/{num_fine_tune_epochs}], Loss: {running_loss/len(train_dataloader):.4f}\")\n",
        "\n",
        "    model.eval()\n",
        "    correct = 0\n",
        "    total = 0\n",
        "    with torch.no_grad():\n",
        "        for inputs, labels in tqdm(test_dataloader, desc=\"Fine-tuning Testing\", leave=False):\n",
        "            inputs, labels = inputs.to(device), labels.to(device)\n",
        "            outputs = model(inputs)\n",
        "            _, predicted = torch.max(outputs.data, 1)\n",
        "            total += labels.size(0)\n",
        "            correct += (predicted == labels).sum().item()\n",
        "    print(f\"Fine-tuning Accuracy on test set: {100 * correct / total:.2f}%\")\n",
        "\n",
        "print(\"\\nFine-tuning finished.\")"
      ]
    },
    {
      "cell_type": "markdown",
      "metadata": {
        "id": "C-6fU6zMV5Tc"
      },
      "source": [
        "### Kaggle Submission\n",
        "The following code is for you to make your submission to kaggle. Here are the steps you must follow:\n",
        "\n",
        "1. Upload `cifar-test-data-sp25.npy` to the colab notebook by going to files on the left hand pane, then hitting \"upload\". This file may take roughly a minute to upload and you should not proceed to the following steps until it has completely finished uploading (students in the past have run into issues where they were accidentally testing on a partially uploaded test set and getting garbage results).\n",
        "2. Run the following cell to generate the dataset object for the test data. Feel free to modify the code to use the same transforms that you use for the training data. By default, this will re-use the `transform` variable.\n",
        "3. In the second cell, write code to run predictions on the testing dataset and store them into an array called `predictions`.\n",
        "4. Run the final cell which will convert your predictions array into a CSV for kaggle.\n",
        "5. Go to the files pane again, and download the file called `submission.csv` by clicking the three dots and then download.\n"
      ]
    },
    {
      "cell_type": "code",
      "execution_count": 18,
      "metadata": {
        "id": "T2-pq0UFV5r9"
      },
      "outputs": [],
      "source": [
        "from PIL import Image\n",
        "import os\n",
        "\n",
        "class CIFAR10Test(torchvision.datasets.VisionDataset):\n",
        "\n",
        "    def __init__(self, transform=None, target_transform=None):\n",
        "        super(CIFAR10Test, self).__init__(None, transform=transform,\n",
        "                                      target_transform=target_transform)\n",
        "        assert os.path.exists(\"./data/cifar10-test-data-sp25.npy\"), \"You must upload the test data to the file system.\"\n",
        "        self.data = [np.load(\"./data/cifar10-test-data-sp25.npy\", allow_pickle=False)]\n",
        "\n",
        "        self.data = np.vstack(self.data).reshape(-1, 3, 32, 32)\n",
        "        self.data = self.data.transpose((0, 2, 3, 1))  # convert to HWC\n",
        "\n",
        "    def __getitem__(self, index: int):\n",
        "        img = self.data[index]\n",
        "        img = Image.fromarray(img)\n",
        "        if self.transform is not None:\n",
        "            img = self.transform(img)\n",
        "        return img\n",
        "\n",
        "    def __len__(self) -> int:\n",
        "        return len(self.data)\n",
        "\n",
        "# To save some hassle, we have provided the same transformation to be applied in the training data, but please\n",
        "# change this if you were to modify your training approach compared to what we have.\n",
        "transform = transforms.Compose([\n",
        "    transforms.Resize((224, 224)), # Resize to 224x224 (height x width)\n",
        "    transforms.ToTensor(),\n",
        "    transforms.Normalize(mean=[0.485, 0.456, 0.406],\n",
        "                          std=[0.229, 0.224, 0.225])\n",
        "])\n",
        "\n",
        "# Create the test dataset\n",
        "testing_data = CIFAR10Test(\n",
        "    transform=transform, # NOTE: Make sure transform is the same as used in the training dataset.\n",
        ")"
      ]
    },
    {
      "cell_type": "code",
      "execution_count": null,
      "metadata": {
        "id": "ARCK5cWWWAKU"
      },
      "outputs": [],
      "source": [
        "### YOUR CODE HERE ###\n",
        "\n",
        "# Recommendation: create a `test_dataloader` from torch.utils.data.DataLoader with `shuffle=False` to iterate over the test data in batches.\n",
        "predictions = None\n",
        "\n",
        "# Create test dataloader\n",
        "test_dataloader = DataLoader(testing_data, batch_size=32, shuffle=False)\n",
        "model.eval()  # Set the model to evaluation mode\n",
        "\n",
        "predictions_list = []\n",
        "with torch.no_grad():  # Disable gradient calculation\n",
        "    for inputs in test_dataloader:\n",
        "        inputs = inputs.to(device)\n",
        "        outputs = model(inputs)\n",
        "        _, predicted = torch.max(outputs.data, 1)\n",
        "        predictions_list.extend(predicted.cpu().numpy())\n",
        "\n",
        "predictions = np.array(predictions_list)"
      ]
    },
    {
      "cell_type": "code",
      "execution_count": 21,
      "metadata": {
        "id": "8UMQ-2VeV8Ft"
      },
      "outputs": [],
      "source": [
        "# This code below will generate kaggle_predictions.csv file. Please download it and submit to kaggle.\n",
        "import pandas as pd\n",
        "\n",
        "if isinstance(predictions, np.ndarray):\n",
        "    predictions = predictions.astype(int)\n",
        "else:\n",
        "    predictions = np.array(predictions, dtype=int)\n",
        "assert predictions.shape == (len(testing_data),), \"Predictions were not the correct shape\"\n",
        "df = pd.DataFrame({'Category': predictions})\n",
        "df.index += 1  # Ensures that the index starts at 1.\n",
        "df.to_csv('submission.csv', index_label='Id')\n",
        "\n",
        "# Now download the submission.csv file to submit."
      ]
    }
  ],
  "metadata": {
    "accelerator": "GPU",
    "colab": {
      "gpuType": "T4",
      "provenance": []
    },
    "kernelspec": {
      "display_name": "cs15-388",
      "language": "python",
      "name": "python3"
    },
    "language_info": {
      "name": "python",
      "version": "3.11.13"
    }
  },
  "nbformat": 4,
  "nbformat_minor": 0
}